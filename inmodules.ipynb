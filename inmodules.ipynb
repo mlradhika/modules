{
 "cells": [
  {
   "cell_type": "code",
   "execution_count": 1,
   "metadata": {
    "scrolled": true
   },
   "outputs": [
    {
     "name": "stdout",
     "output_type": "stream",
     "text": [
      "pi= 3.141592653589793\n",
      "153.93804002589985\n",
      "81.0\n",
      "5.0\n",
      "1.4142135623730951\n",
      "e= 2.718281828459045\n",
      "1.2214027581601699\n",
      "abs(-3)= 3\n",
      "abs(-3.5)= 3.5\n",
      "fabs(-3)= 3.0\n",
      "fabs(-3.5)= 3.5\n"
     ]
    }
   ],
   "source": [
    "#pi, e, sqrt, ceil, ,floor, pow, fabs, sin, cos, tan\n",
    "import math as m\n",
    "#pi\n",
    "print('pi=',m.pi)\n",
    "r=7.0\n",
    "print(m.pi*r*r)#()\n",
    "\n",
    "#pow()\n",
    "p=3\n",
    "q=4\n",
    "print(m.pow(p,q))\n",
    "\n",
    "#sqrt()\n",
    "print(m.sqrt(25))\n",
    "print(m.sqrt(2))\n",
    "\n",
    "#e\n",
    "print('e=',m.e)\n",
    "x=0.1\n",
    "y=m.e\n",
    "print(m.pow(y,2*x))\n",
    "print('abs(-3)=',abs(-3))#\n",
    "print('abs(-3.5)=',abs(-3.5))\n",
    "print('fabs(-3)=',m.fabs(-3))\n",
    "print('fabs(-3.5)=',m.fabs(-3.5))\n"
   ]
  },
  {
   "cell_type": "code",
   "execution_count": 2,
   "metadata": {},
   "outputs": [
    {
     "name": "stdout",
     "output_type": "stream",
     "text": [
      "ceil( 4.000000001 =) 5\n",
      "floor( 4.000000001 =) 4\n",
      "ceil( 4.9999999 =) 5\n",
      "floor( 4.9999999 =) 4\n",
      "ceil( -4.999999 =) -4\n",
      "floor( -4.999999 =) -5\n",
      "ceil( -4.00001 =) -4\n",
      "floor( -4.00001 =) -5\n"
     ]
    }
   ],
   "source": [
    "# ceil() and floor()\n",
    "p=4.000000001\n",
    "print('ceil(',p,'=)',m.ceil(p))\n",
    "print('floor(',p,'=)',m.floor(p))\n",
    "\n",
    "q=4.9999999\n",
    "print('ceil(',q,'=)',m.ceil(q))\n",
    "print('floor(',q,'=)',m.floor(q))\n",
    "\n",
    "p=-4.999999\n",
    "print('ceil(',p,'=)',m.ceil(p))\n",
    "print('floor(',p,'=)',m.floor(p))\n",
    "\n",
    "q=-4.00001\n",
    "print('ceil(',q,'=)',m.ceil(q))\n",
    "print('floor(',q,'=)',m.floor(q))\n"
   ]
  },
  {
   "cell_type": "code",
   "execution_count": 3,
   "metadata": {},
   "outputs": [
    {
     "name": "stdout",
     "output_type": "stream",
     "text": [
      "sin 30= 0.49999999999999994\n",
      "sin 90= 1.0\n",
      "cos 0= 1.0\n",
      "cos 90= 6.123233995736766e-17\n",
      "tan 0= 0.0\n",
      "tan 90= 1.633123935319537e+16\n",
      "1.5707963267948966\n",
      "90.0\n"
     ]
    }
   ],
   "source": [
    "#trigonometric functions\n",
    "import math as m\n",
    "\n",
    "print('sin 30=',m.sin(30*m.pi/180))\n",
    "print('sin 90=',m.sin(90*m.pi/180))\n",
    "print('cos 0=',m.cos(0*m.pi/180))\n",
    "print('cos 90=',m.cos(90*m.pi/180))\n",
    "\n",
    "print('tan 0=',m.tan(0*m.pi/180))\n",
    "print('tan 90=',m.tan(90*m.pi/180))\n",
    "print(m.asin(1))\n",
    "print(m.asin(1)*180/m.pi)\n",
    "\n"
   ]
  },
  {
   "cell_type": "code",
   "execution_count": 5,
   "metadata": {},
   "outputs": [
    {
     "name": "stdout",
     "output_type": "stream",
     "text": [
      "0.6886615849013873\n",
      "2\n",
      "1.992846783986801\n"
     ]
    }
   ],
   "source": [
    "#random()-#will generate  a random number between 0 and 1\n",
    "import random as r\n",
    "n=r.random() \n",
    "print(n)\n",
    "#to customize between a range between a  range of intgers\n",
    "lb=1\n",
    "ub=6\n",
    "c=int(r.random()*(ub-lb+1)+lb)# \n",
    "print(c)\n",
    "#to customize between a range between a  range for numbers with decimal\n",
    "lb=1.5\n",
    "ub=2.5\n",
    "d=r.random()*(ub-lb)+lb# \n",
    "print(d)"
   ]
  },
  {
   "cell_type": "code",
   "execution_count": 21,
   "metadata": {},
   "outputs": [
    {
     "name": "stdout",
     "output_type": "stream",
     "text": [
      "5\n"
     ]
    }
   ],
   "source": [
    "\n",
    "#randint(a ,b)-will generate a number between a and b including a and b\n",
    "import random as r\n",
    "n=r.randint(5,7) #will generate  a random number between 5 and 7 including 5 and 7\n",
    "print(n)"
   ]
  },
  {
   "cell_type": "code",
   "execution_count": 22,
   "metadata": {},
   "outputs": [
    {
     "name": "stdout",
     "output_type": "stream",
     "text": [
      "n1= 1\n",
      "n2= 2\n",
      "n3= 5\n"
     ]
    }
   ],
   "source": [
    "import random as r\n",
    "n1=r.randrange(1,4) #will generate  a random number between 1 and 3\n",
    "print('n1=',n1)\n",
    "n2=r.randrange(3) #will generate  a random number between 0 and 2\n",
    "print('n2=',n2)\n",
    "n3=r.randrange(5,0,-2) #will generate  a random number - 5 or 3 or 1\n",
    "print('n3=',n3)"
   ]
  },
  {
   "cell_type": "code",
   "execution_count": 26,
   "metadata": {},
   "outputs": [
    {
     "name": "stdout",
     "output_type": "stream",
     "text": [
      "mean= 4.5\n",
      "median= 4\n",
      "mode= 4\n"
     ]
    }
   ],
   "source": [
    "import statistics as s\n",
    "l=(9,1,3,6,4,4,4.5)\n",
    "\n",
    "print('mean=',s.mean(l))\n",
    "print('median=',s.median(l))\n",
    "print('mode=',s.mode(l))"
   ]
  },
  {
   "cell_type": "code",
   "execution_count": 27,
   "metadata": {},
   "outputs": [
    {
     "name": "stdout",
     "output_type": "stream",
     "text": [
      "mumbai\n",
      "delhi\n",
      "chennai\n"
     ]
    }
   ],
   "source": [
    "import random as r\n",
    "n=r.randint(1,2)\n",
    "cities=['chennai','delhi','mumbai','kolkata']\n",
    "for i in range (n,-1,-1):\n",
    "    print(cities[i])\n"
   ]
  },
  {
   "cell_type": "code",
   "execution_count": 28,
   "metadata": {},
   "outputs": [
    {
     "name": "stdout",
     "output_type": "stream",
     "text": [
      "delhi\n",
      "chennai\n"
     ]
    }
   ],
   "source": [
    "import random as r\n",
    "n=r.randrange(1,3)\n",
    "cities=['chennai','delhi','mumbai','kolkata']\n",
    "for i in range (n,-1,-1):\n",
    "    print(cities[i])"
   ]
  },
  {
   "cell_type": "code",
   "execution_count": 29,
   "metadata": {},
   "outputs": [
    {
     "name": "stdout",
     "output_type": "stream",
     "text": [
      "12.07700795676662\n",
      "10\n"
     ]
    }
   ],
   "source": [
    "from math import *# iporting a libray - method 2\n",
    "print(sqrt(2)*e*pi)\n",
    "print(ceil(9.1))\n"
   ]
  },
  {
   "cell_type": "code",
   "execution_count": 31,
   "metadata": {},
   "outputs": [
    {
     "name": "stdout",
     "output_type": "stream",
     "text": [
      "2.0\n",
      "2.23606797749979\n"
     ]
    }
   ],
   "source": [
    "import math# importing a library -method 3\n",
    "print(math.sqrt(4))\n",
    "print(math.pow(5,1/2))\n"
   ]
  },
  {
   "cell_type": "code",
   "execution_count": 32,
   "metadata": {},
   "outputs": [
    {
     "name": "stdout",
     "output_type": "stream",
     "text": [
      "NUM= 3\n",
      "['TAMILNADU', 'KERALA', 'MAHARASHTRA']\n"
     ]
    }
   ],
   "source": [
    "'''\n",
    "What are the possible output(s) are expected when the given code is executed:\n",
    "i) ['TAMILNADU', 'KERALA', 'MAHARASHTRA']-allowed\n",
    "ii)['KERALA']\n",
    "iii)[\"KERALA\", \"MAHARASHTRA\"]\n",
    "iv)['TAMILNADU', 'KERALA'] -allowed\n",
    "What will be the minimum and maximum values that could be assigned to the variable NUM.\n",
    "\n",
    "'''\n",
    "import random\n",
    "STATES=[\"TAMILNADU\", \"KERALA\", \"MAHARASHTRA\", \"KARNATAKA\"]\n",
    "NUM = random.randint(1,3)#1 or 2 or 3\n",
    "print('NUM=',NUM)\n",
    "SELECTED=[]\n",
    "for I in range(NUM):#(3)0,1,2\n",
    " SELECTED.append(STATES[I])\n",
    "print(SELECTED)\n"
   ]
  },
  {
   "cell_type": "code",
   "execution_count": 33,
   "metadata": {},
   "outputs": [
    {
     "name": "stdout",
     "output_type": "stream",
     "text": [
      "NUM= 2\n",
      "['MAHARASHTRA', 'KERALA', 'TAMILNADU']\n"
     ]
    }
   ],
   "source": [
    "'''\n",
    "\n",
    "What are the possible output(s) are expected when the given code is executed:\n",
    "i) ['TAMILNADU', 'KERALA','MAHARASHTRA']x\n",
    "ii)['KERALA', 'TAMILNADU']--possible\n",
    "iii)['KARNATAKA', 'MAHARASHTRA', 'KERALA', 'TAMILNADU']---possible\n",
    "iV['KARNATAKA']\n",
    "What will be the minimum and maximum values that could be assigned to the variable NUM.\n",
    "\n",
    "'''\n",
    "import random\n",
    "STATES=[\"TAMILNADU\", \"KERALA\", \"MAHARASHTRA\", \"KARNATAKA\"]\n",
    "NUM = random.randint(1,3)#\n",
    "print('NUM=',NUM)\n",
    "SELECTED=[]\n",
    "for I in range(NUM,-1,-1):#(3,-1,-1)--3 to 0-3,2,1,0\n",
    "   SELECTED.append(STATES[I])\n",
    "print(SELECTED)"
   ]
  },
  {
   "cell_type": "code",
   "execution_count": 34,
   "metadata": {},
   "outputs": [
    {
     "name": "stdout",
     "output_type": "stream",
     "text": [
      "0.7853981633974483\n",
      "0.6931471805599453\n",
      "0.3010299956639812\n"
     ]
    }
   ],
   "source": [
    "import math as m\n",
    "print(m.radians(45))\n",
    "print(m.log(2))\n",
    "print(m.log10(2))"
   ]
  },
  {
   "cell_type": "code",
   "execution_count": null,
   "metadata": {},
   "outputs": [],
   "source": []
  }
 ],
 "metadata": {
  "kernelspec": {
   "display_name": "Python 3",
   "language": "python",
   "name": "python3"
  },
  "language_info": {
   "codemirror_mode": {
    "name": "ipython",
    "version": 3
   },
   "file_extension": ".py",
   "mimetype": "text/x-python",
   "name": "python",
   "nbconvert_exporter": "python",
   "pygments_lexer": "ipython3",
   "version": "3.7.6"
  }
 },
 "nbformat": 4,
 "nbformat_minor": 4
}
